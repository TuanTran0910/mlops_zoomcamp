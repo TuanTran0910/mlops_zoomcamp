{
 "cells": [
  {
   "cell_type": "code",
   "execution_count": 256,
   "metadata": {},
   "outputs": [],
   "source": [
    "import pandas as pd\n",
    "import numpy as np\n",
    "import matplotlib.pyplot as plt\n",
    "import seaborn as sns"
   ]
  },
  {
   "cell_type": "markdown",
   "metadata": {},
   "source": [
    "## Turn into function"
   ]
  },
  {
   "cell_type": "code",
   "execution_count": 15,
   "metadata": {},
   "outputs": [],
   "source": [
    "import pandas as pd\n",
    "import numpy as np\n",
    "import pickle\n",
    "from sklearn.compose import ColumnTransformer\n",
    "from sklearn.preprocessing import TargetEncoder, StandardScaler"
   ]
  },
  {
   "cell_type": "code",
   "execution_count": 43,
   "metadata": {},
   "outputs": [],
   "source": [
    "def read_dataframe(filename: str):\n",
    "    # Check file format\n",
    "    if not filename.endswith(\".csv\") and not filename.endswith(\".parquet\"):\n",
    "        raise ValueError(\n",
    "            \"The file format is not supported. Please provide a CSV or Parquet file.\"\n",
    "        )\n",
    "\n",
    "    # Read the file\n",
    "    try:\n",
    "        if filename.endswith(\".csv\"):\n",
    "            df = pd.read_csv(filename)\n",
    "            df[\"tpep_pickup_datetime\"] = pd.to_datetime(df[\"tpep_pickup_datetime\"])\n",
    "            df[\"tpep_dropoff_datetime\"] = pd.to_datetime(df[\"tpep_dropoff_datetime\"])\n",
    "        elif filename.endswith(\".parquet\"):\n",
    "            df = pd.read_parquet(filename)\n",
    "    except FileNotFoundError:\n",
    "        raise FileNotFoundError(f\"The file {filename} was not found.\")\n",
    "    except Exception as e:\n",
    "        raise IOError(f\"Error reading the file: {str(e)}\")\n",
    "\n",
    "    # Calculate the trip duration\n",
    "    try:\n",
    "        df[\"trip_duration\"] = (\n",
    "            df[\"tpep_dropoff_datetime\"] - df[\"tpep_pickup_datetime\"]\n",
    "        ).dt.total_seconds() / 60\n",
    "    except Exception as e:\n",
    "        raise ValueError(\n",
    "            \"Error calculating the trip duration. Please check the columns 'tpep_pickup_datetime' and 'tpep_dropoff_datetime'.\"\n",
    "        )\n",
    "    df = df[(df[\"trip_duration\"] > 0) & (df[\"trip_duration\"] < 60)]\n",
    "\n",
    "    # Extract date features\n",
    "    df[\"tpep_pickup_month\"] = df[\"tpep_pickup_datetime\"].dt.month\n",
    "    df[\"tpep_pickup_day\"] = df[\"tpep_pickup_datetime\"].dt.day\n",
    "    df[\"tpep_pickup_day_of_week\"] = df[\"tpep_pickup_datetime\"].dt.day_of_week\n",
    "    df[\"tpep_pickup_hour\"] = df[\"tpep_pickup_datetime\"].dt.hour\n",
    "\n",
    "    # Rearrange columns\n",
    "    column_order = [\n",
    "        \"trip_distance\",\n",
    "        \"tpep_pickup_month\",\n",
    "        \"tpep_pickup_day\",\n",
    "        \"tpep_pickup_day_of_week\",\n",
    "        \"tpep_pickup_hour\",\n",
    "        \"PULocationID\",\n",
    "        \"DOLocationID\",\n",
    "        \"trip_duration\",\n",
    "    ]\n",
    "    df = df[column_order]\n",
    "\n",
    "    # Cast the columns to the appropriate data types\n",
    "    df[[\"PULocationID\", \"DOLocationID\"]] = df[[\"PULocationID\", \"DOLocationID\"]].astype(\n",
    "        \"category\"\n",
    "    )\n",
    "\n",
    "    return df"
   ]
  },
  {
   "cell_type": "code",
   "execution_count": 44,
   "metadata": {},
   "outputs": [],
   "source": [
    "train_df = read_dataframe('./data/yellow_tripdata_2024-01.parquet')\n",
    "test_df = read_dataframe('./data/yellow_tripdata_2024-02.parquet')"
   ]
  },
  {
   "cell_type": "code",
   "execution_count": 45,
   "metadata": {},
   "outputs": [
    {
     "data": {
      "text/html": [
       "<div>\n",
       "<style scoped>\n",
       "    .dataframe tbody tr th:only-of-type {\n",
       "        vertical-align: middle;\n",
       "    }\n",
       "\n",
       "    .dataframe tbody tr th {\n",
       "        vertical-align: top;\n",
       "    }\n",
       "\n",
       "    .dataframe thead th {\n",
       "        text-align: right;\n",
       "    }\n",
       "</style>\n",
       "<table border=\"1\" class=\"dataframe\">\n",
       "  <thead>\n",
       "    <tr style=\"text-align: right;\">\n",
       "      <th></th>\n",
       "      <th>trip_distance</th>\n",
       "      <th>tpep_pickup_month</th>\n",
       "      <th>tpep_pickup_day</th>\n",
       "      <th>tpep_pickup_day_of_week</th>\n",
       "      <th>tpep_pickup_hour</th>\n",
       "      <th>PULocationID</th>\n",
       "      <th>DOLocationID</th>\n",
       "      <th>trip_duration</th>\n",
       "    </tr>\n",
       "  </thead>\n",
       "  <tbody>\n",
       "    <tr>\n",
       "      <th>0</th>\n",
       "      <td>1.72</td>\n",
       "      <td>1</td>\n",
       "      <td>1</td>\n",
       "      <td>0</td>\n",
       "      <td>0</td>\n",
       "      <td>186</td>\n",
       "      <td>79</td>\n",
       "      <td>19.800000</td>\n",
       "    </tr>\n",
       "    <tr>\n",
       "      <th>1</th>\n",
       "      <td>1.80</td>\n",
       "      <td>1</td>\n",
       "      <td>1</td>\n",
       "      <td>0</td>\n",
       "      <td>0</td>\n",
       "      <td>140</td>\n",
       "      <td>236</td>\n",
       "      <td>6.600000</td>\n",
       "    </tr>\n",
       "    <tr>\n",
       "      <th>2</th>\n",
       "      <td>4.70</td>\n",
       "      <td>1</td>\n",
       "      <td>1</td>\n",
       "      <td>0</td>\n",
       "      <td>0</td>\n",
       "      <td>236</td>\n",
       "      <td>79</td>\n",
       "      <td>17.916667</td>\n",
       "    </tr>\n",
       "    <tr>\n",
       "      <th>3</th>\n",
       "      <td>1.40</td>\n",
       "      <td>1</td>\n",
       "      <td>1</td>\n",
       "      <td>0</td>\n",
       "      <td>0</td>\n",
       "      <td>79</td>\n",
       "      <td>211</td>\n",
       "      <td>8.300000</td>\n",
       "    </tr>\n",
       "    <tr>\n",
       "      <th>4</th>\n",
       "      <td>0.80</td>\n",
       "      <td>1</td>\n",
       "      <td>1</td>\n",
       "      <td>0</td>\n",
       "      <td>0</td>\n",
       "      <td>211</td>\n",
       "      <td>148</td>\n",
       "      <td>6.100000</td>\n",
       "    </tr>\n",
       "  </tbody>\n",
       "</table>\n",
       "</div>"
      ],
      "text/plain": [
       "   trip_distance  tpep_pickup_month  tpep_pickup_day  tpep_pickup_day_of_week  \\\n",
       "0           1.72                  1                1                        0   \n",
       "1           1.80                  1                1                        0   \n",
       "2           4.70                  1                1                        0   \n",
       "3           1.40                  1                1                        0   \n",
       "4           0.80                  1                1                        0   \n",
       "\n",
       "   tpep_pickup_hour PULocationID DOLocationID  trip_duration  \n",
       "0                 0          186           79      19.800000  \n",
       "1                 0          140          236       6.600000  \n",
       "2                 0          236           79      17.916667  \n",
       "3                 0           79          211       8.300000  \n",
       "4                 0          211          148       6.100000  "
      ]
     },
     "execution_count": 45,
     "metadata": {},
     "output_type": "execute_result"
    }
   ],
   "source": [
    "train_df.head()"
   ]
  },
  {
   "cell_type": "code",
   "execution_count": 46,
   "metadata": {},
   "outputs": [
    {
     "data": {
      "text/html": [
       "<div>\n",
       "<style scoped>\n",
       "    .dataframe tbody tr th:only-of-type {\n",
       "        vertical-align: middle;\n",
       "    }\n",
       "\n",
       "    .dataframe tbody tr th {\n",
       "        vertical-align: top;\n",
       "    }\n",
       "\n",
       "    .dataframe thead th {\n",
       "        text-align: right;\n",
       "    }\n",
       "</style>\n",
       "<table border=\"1\" class=\"dataframe\">\n",
       "  <thead>\n",
       "    <tr style=\"text-align: right;\">\n",
       "      <th></th>\n",
       "      <th>trip_distance</th>\n",
       "      <th>tpep_pickup_month</th>\n",
       "      <th>tpep_pickup_day</th>\n",
       "      <th>tpep_pickup_day_of_week</th>\n",
       "      <th>tpep_pickup_hour</th>\n",
       "      <th>PULocationID</th>\n",
       "      <th>DOLocationID</th>\n",
       "      <th>trip_duration</th>\n",
       "    </tr>\n",
       "  </thead>\n",
       "  <tbody>\n",
       "    <tr>\n",
       "      <th>0</th>\n",
       "      <td>4.39</td>\n",
       "      <td>2</td>\n",
       "      <td>1</td>\n",
       "      <td>3</td>\n",
       "      <td>0</td>\n",
       "      <td>68</td>\n",
       "      <td>236</td>\n",
       "      <td>15.216667</td>\n",
       "    </tr>\n",
       "    <tr>\n",
       "      <th>1</th>\n",
       "      <td>7.71</td>\n",
       "      <td>2</td>\n",
       "      <td>1</td>\n",
       "      <td>3</td>\n",
       "      <td>0</td>\n",
       "      <td>48</td>\n",
       "      <td>243</td>\n",
       "      <td>14.366667</td>\n",
       "    </tr>\n",
       "    <tr>\n",
       "      <th>2</th>\n",
       "      <td>28.69</td>\n",
       "      <td>2</td>\n",
       "      <td>1</td>\n",
       "      <td>3</td>\n",
       "      <td>0</td>\n",
       "      <td>132</td>\n",
       "      <td>261</td>\n",
       "      <td>35.366667</td>\n",
       "    </tr>\n",
       "    <tr>\n",
       "      <th>3</th>\n",
       "      <td>1.10</td>\n",
       "      <td>2</td>\n",
       "      <td>1</td>\n",
       "      <td>3</td>\n",
       "      <td>0</td>\n",
       "      <td>161</td>\n",
       "      <td>163</td>\n",
       "      <td>8.966667</td>\n",
       "    </tr>\n",
       "    <tr>\n",
       "      <th>4</th>\n",
       "      <td>2.60</td>\n",
       "      <td>2</td>\n",
       "      <td>1</td>\n",
       "      <td>3</td>\n",
       "      <td>0</td>\n",
       "      <td>246</td>\n",
       "      <td>79</td>\n",
       "      <td>13.666667</td>\n",
       "    </tr>\n",
       "  </tbody>\n",
       "</table>\n",
       "</div>"
      ],
      "text/plain": [
       "   trip_distance  tpep_pickup_month  tpep_pickup_day  tpep_pickup_day_of_week  \\\n",
       "0           4.39                  2                1                        3   \n",
       "1           7.71                  2                1                        3   \n",
       "2          28.69                  2                1                        3   \n",
       "3           1.10                  2                1                        3   \n",
       "4           2.60                  2                1                        3   \n",
       "\n",
       "   tpep_pickup_hour PULocationID DOLocationID  trip_duration  \n",
       "0                 0           68          236      15.216667  \n",
       "1                 0           48          243      14.366667  \n",
       "2                 0          132          261      35.366667  \n",
       "3                 0          161          163       8.966667  \n",
       "4                 0          246           79      13.666667  "
      ]
     },
     "execution_count": 46,
     "metadata": {},
     "output_type": "execute_result"
    }
   ],
   "source": [
    "test_df.head()"
   ]
  },
  {
   "cell_type": "code",
   "execution_count": 108,
   "metadata": {},
   "outputs": [],
   "source": [
    "from sklearn.base import TransformerMixin, BaseEstimator\n",
    "\n",
    "class CyclialEncoder(BaseEstimator, TransformerMixin):\n",
    "    def __init__(self, cyclial_dict, drop_original=True):\n",
    "        self.cyclial_dict = cyclial_dict\n",
    "        self.drop_original = drop_original\n",
    "\n",
    "    def fit(self, X, y=None):\n",
    "        return self\n",
    "\n",
    "    def transform(self, X):\n",
    "        for col, max_val in self.cyclial_dict.items():\n",
    "            X[col + \"_sin\"] = np.sin(2 * np.pi * X[col] / max_val)\n",
    "            X[col + \"_cos\"] = np.cos(2 * np.pi * X[col] / max_val)\n",
    "            if self.drop_original:\n",
    "                X = X.drop(col, axis=1)\n",
    "        return X\n",
    "\n",
    "    def fit_transform(self, X, y=None):\n",
    "        return self.transform(X)"
   ]
  },
  {
   "cell_type": "code",
   "execution_count": 85,
   "metadata": {},
   "outputs": [],
   "source": [
    "cyclial_dict = {\n",
    "    \"tpep_pickup_month\": 12,\n",
    "    \"tpep_pickup_day\": 31,\n",
    "    \"tpep_pickup_day_of_week\": 6,\n",
    "    \"tpep_pickup_hour\": 23\n",
    "}"
   ]
  },
  {
   "cell_type": "code",
   "execution_count": 157,
   "metadata": {},
   "outputs": [],
   "source": [
    "def remove_outlier(data, column_name, threshold=1.5):\n",
    "    try:\n",
    "        iqr = data[column_name].quantile(0.75) - data[column_name].quantile(0.25)\n",
    "        lower_bound = data[column_name].quantile(0.25) - (threshold * iqr)\n",
    "        upper_bound = data[column_name].quantile(0.75) + (threshold * iqr)\n",
    "        data_copy = data[\n",
    "            (data[column_name] > lower_bound) & (data[column_name] < upper_bound)\n",
    "        ]\n",
    "    except Exception as e:\n",
    "        raise ValueError(f\"Error removing outliers: {str(e)}\")\n",
    "\n",
    "    return data_copy\n",
    "\n",
    "\n",
    "def prepare_X_y(data, mode=\"train\", return_preprocessor=False, preprocessor=None):\n",
    "    if mode == \"train\" and preprocessor is not None:\n",
    "        print(\n",
    "            \"The preprocessor should be None when the mode is 'train'. Setting preprocessor to None.\"\n",
    "        )\n",
    "        preprocessor = None\n",
    "    elif mode == \"test\" and preprocessor is None:\n",
    "        raise ValueError(\"The preprocessor should be provided when the mode is 'test'.\")\n",
    "\n",
    "    # Remove outliers\n",
    "    data = remove_outlier(data, \"trip_distance\")\n",
    "\n",
    "    # Split data into features and target\n",
    "    X = data.drop(\"trip_duration\", axis=1)\n",
    "    y = data[\"trip_duration\"]\n",
    "\n",
    "    # Define preprocessor if not provided\n",
    "    if preprocessor is None:\n",
    "        # Define the preprocessor\n",
    "        preprocessor = ColumnTransformer(\n",
    "            transformers=[\n",
    "                (\n",
    "                    \"cyclial_encoder\",\n",
    "                    CyclialEncoder(cyclial_dict),\n",
    "                    [\n",
    "                        \"tpep_pickup_month\",\n",
    "                        \"tpep_pickup_day\",\n",
    "                        \"tpep_pickup_day_of_week\",\n",
    "                        \"tpep_pickup_hour\",\n",
    "                    ],\n",
    "                ),\n",
    "                (\n",
    "                    \"target_encoder\",\n",
    "                    TargetEncoder(target_type=\"continuous\"),\n",
    "                    [\"PULocationID\", \"DOLocationID\"],\n",
    "                ),\n",
    "                (\"scaler\", StandardScaler(), [\"trip_distance\"]),\n",
    "            ],\n",
    "        )\n",
    "\n",
    "    if mode == \"train\":\n",
    "        X = preprocessor.fit_transform(X, y)\n",
    "    elif mode == \"test\":\n",
    "        X = preprocessor.transform(X)\n",
    "    else:\n",
    "        raise ValueError(\"The mode should be either 'train' or 'test'.\")\n",
    "\n",
    "    if return_preprocessor:\n",
    "        return X, y, preprocessor\n",
    "    return X, y"
   ]
  },
  {
   "cell_type": "code",
   "execution_count": 146,
   "metadata": {},
   "outputs": [],
   "source": [
    "X_train, y_train, preprocessor = prepare_X_y(train_df, return_preprocessor=True)"
   ]
  },
  {
   "cell_type": "code",
   "execution_count": 147,
   "metadata": {},
   "outputs": [],
   "source": [
    "X_test, y_test = prepare_X_y(test_df, mode=\"test\", preprocessor=preprocessor)"
   ]
  },
  {
   "cell_type": "code",
   "execution_count": 148,
   "metadata": {},
   "outputs": [
    {
     "name": "stdout",
     "output_type": "stream",
     "text": [
      "Shape of X_train: (2570269, 11)\n",
      "Shape of y_train: (2570269,)\n"
     ]
    }
   ],
   "source": [
    "print(f\"Shape of X_train: {X_train.shape}\")\n",
    "print(f\"Shape of y_train: {y_train.shape}\")"
   ]
  },
  {
   "cell_type": "code",
   "execution_count": 149,
   "metadata": {},
   "outputs": [
    {
     "name": "stdout",
     "output_type": "stream",
     "text": [
      "Shape of X_test: (2615609, 11)\n",
      "Shape of y_test: (2615609,)\n"
     ]
    }
   ],
   "source": [
    "print(f\"Shape of X_test: {X_test.shape}\")\n",
    "print(f\"Shape of y_test: {y_test.shape}\")"
   ]
  },
  {
   "cell_type": "code",
   "execution_count": 150,
   "metadata": {},
   "outputs": [],
   "source": [
    "def train(X, y, model):\n",
    "    model.fit(X, y)\n",
    "    return model\n",
    "\n",
    "def evaluate(X, y, model):\n",
    "    y_pred = model.predict(X)\n",
    "    mse = root_mean_squared_error(y, y_pred)\n",
    "    print(y_pred[0], y[0])\n",
    "    return mse"
   ]
  },
  {
   "cell_type": "code",
   "execution_count": 151,
   "metadata": {},
   "outputs": [],
   "source": [
    "from xgboost import XGBRegressor\n",
    "from sklearn.metrics import root_mean_squared_error"
   ]
  },
  {
   "cell_type": "code",
   "execution_count": 154,
   "metadata": {},
   "outputs": [
    {
     "name": "stdout",
     "output_type": "stream",
     "text": [
      "20.177097 15.216666666666667\n",
      "XGBoost RMSE: 4.037091180649304\n"
     ]
    }
   ],
   "source": [
    "xgb_model = XGBRegressor()\n",
    "xgb_model = train(X_train, y_train, xgb_model)\n",
    "xgb_rmse = evaluate(X_test, y_test, xgb_model)\n",
    "print(f\"XGBoost RMSE: {xgb_rmse}\")"
   ]
  },
  {
   "cell_type": "code",
   "execution_count": 156,
   "metadata": {},
   "outputs": [
    {
     "name": "stdout",
     "output_type": "stream",
     "text": [
      "[LightGBM] [Info] Auto-choosing row-wise multi-threading, the overhead of testing was 0.034265 seconds.\n",
      "You can set `force_row_wise=true` to remove the overhead.\n",
      "And if memory is not enough, you can set `force_col_wise=true`.\n",
      "[LightGBM] [Info] Total Bins 873\n",
      "[LightGBM] [Info] Number of data points in the train set: 2570269, number of used features: 9\n",
      "[LightGBM] [Info] Start training from score 11.741983\n",
      "21.282791260353758 15.216666666666667\n",
      "LGBM RMSE: 4.128901499928223\n"
     ]
    }
   ],
   "source": [
    "from lightgbm import LGBMRegressor\n",
    "\n",
    "lgbm_model = LGBMRegressor()\n",
    "lgbm_model = train(X_train, y_train, lgbm_model)\n",
    "lgbm_rmse = evaluate(X_test, y_test, lgbm_model)\n",
    "print(f\"LGBM RMSE: {lgbm_rmse}\")"
   ]
  },
  {
   "cell_type": "code",
   "execution_count": 155,
   "metadata": {},
   "outputs": [],
   "source": [
    "with open('model/model.pkl', 'wb') as f:\n",
    "    pickle.dump(xgb_model, f)"
   ]
  }
 ],
 "metadata": {
  "kernelspec": {
   "display_name": "Python 3 (ipykernel)",
   "language": "python",
   "name": "python3"
  },
  "language_info": {
   "codemirror_mode": {
    "name": "ipython",
    "version": 3
   },
   "file_extension": ".py",
   "mimetype": "text/x-python",
   "name": "python",
   "nbconvert_exporter": "python",
   "pygments_lexer": "ipython3",
   "version": "3.12.3"
  }
 },
 "nbformat": 4,
 "nbformat_minor": 4
}
